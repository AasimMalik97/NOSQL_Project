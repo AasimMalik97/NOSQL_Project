{
 "cells": [
  {
   "cell_type": "code",
   "execution_count": null,
   "metadata": {
    "vscode": {
     "languageId": "plaintext"
    }
   },
   "outputs": [],
   "source": [
    "# Create movies\n",
    "\n",
    "CREATE (:Movie {id: \"1\", title: \"Inception\", genres: [\"Sci-Fi\", \"Thriller\"]});\n",
    "CREATE (:Movie {id: \"2\", title: \"Interstellar\", genres: [\"Sci-Fi\", \"Adventure\"]});\n",
    "CREATE (:Movie {id: \"3\", title: \"The Dark Knight\", genres: [\"Action\", \"Drama\", \"Thriller\"]});\n",
    "CREATE (:Movie {id: \"4\", title: \"The Matrix\", genres: [\"Action\", \"Sci-Fi\"]});\n",
    "CREATE (:Movie {id: \"5\", title: \"Avatar\", genres: [\"Action\", \"Adventure\", \"Sci-Fi\"]});\n",
    "CREATE (:Movie {id: \"6\", title: \"Fight Club\", genres: [\"Drama\", \"Thriller\"]});\n",
    "CREATE (:Movie {id: \"7\", title: \"The Prestige\", genres: [\"Drama\", \"Mystery\", \"Thriller\"]});\n",
    "CREATE (:Movie {id: \"8\", title: \"The Shawshank Redemption\", genres: [\"Drama\"]});\n",
    "CREATE (:Movie {id: \"9\", title: \"The Godfather\", genres: [\"Crime\", \"Drama\"]});\n",
    "CREATE (:Movie {id: \"10\", title: \"The Lord of the Rings: The Return of the King\", genres: [\"Adventure\", \"Fantasy\"]});\n",
    "CREATE (:Movie {id: \"11\", title: \"Gladiator\", genres: [\"Action\", \"Drama\"]});\n",
    "CREATE (:Movie {id: \"12\", title: \"The Lion King\", genres: [\"Animation\", \"Adventure\", \"Drama\"]});\n",
    "CREATE (:Movie {id: \"13\", title: \"The Avengers\", genres: [\"Action\", \"Adventure\", \"Sci-Fi\"]});\n",
    "CREATE (:Movie {id: \"14\", title: \"Titanic\", genres: [\"Drama\", \"Romance\"]});\n",
    "CREATE (:Movie {id: \"15\", title: \"Jurassic Park\", genres: [\"Adventure\", \"Sci-Fi\"]});\n",
    "CREATE (:Movie {id: \"16\", title: \"Star Wars: Episode IV - A New Hope\", genres: [\"Action\", \"Adventure\", \"Fantasy\"]});"
   ]
  },
  {
   "cell_type": "code",
   "execution_count": null,
   "metadata": {
    "vscode": {
     "languageId": "plaintext"
    }
   },
   "outputs": [],
   "source": [
    "# Create users\n",
    "\n",
    "CREATE (:User {id: \"101\", name: \"Alice\", email: \"alice@example.com\", age: 28, gender: \"Female\"});\n",
    "CREATE (:User {id: \"102\", name: \"Bob\", email: \"bob@example.com\", age: 35, gender: \"Male\"});\n",
    "CREATE (:User {id: \"103\", name: \"Charlie\", email: \"charlie@example.com\", age: 32, gender: \"Male\"});\n",
    "CREATE (:User {id: \"104\", name: \"David\", email: \"david@example.com\", age: 29, gender: \"Male\"});\n",
    "CREATE (:User {id: \"105\", name: \"Eve\", email: \"eve@example.com\", age: 27, gender: \"Female\"});\n",
    "CREATE (:User {id: \"106\", name: \"Frank\", email: \"frank@example.com\", age: 34, gender: \"Male\"});\n",
    "CREATE (:User {id: \"107\", name: \"Grace\", email: \"grace@example.com\", age: 26, gender: \"Female\"});\n",
    "CREATE (:User {id: \"108\", name: \"Hank\", email: \"hank@example.com\", age: 40, gender: \"Male\"});\n",
    "CREATE (:User {id: \"109\", name: \"Ivy\", email: \"ivy@example.com\", age: 31, gender: \"Female\"});\n",
    "CREATE (:User {id: \"110\", name: \"Jack\", email: \"jack@example.com\", age: 33, gender: \"Male\"});\n",
    "CREATE (:User {id: \"111\", name: \"Karen\", email: \"karen@example.com\", age: 29, gender: \"Female\"});\n",
    "CREATE (:User {id: \"112\", name: \"Leo\", email: \"leo@example.com\", age: 36, gender: \"Male\"});\n",
    "CREATE (:User {id: \"113\", name: \"Mia\", email: \"mia@example.com\", age: 25, gender: \"Female\"});\n",
    "CREATE (:User {id: \"114\", name: \"Nina\", email: \"nina@example.com\", age: 38, gender: \"Female\"});\n",
    "CREATE (:User {id: \"115\", name: \"Oscar\", email: \"oscar@example.com\", age: 27, gender: \"Male\"});\n",
    "CREATE (:User {id: \"116\", name: \"Paul\", email: \"paul@example.com\", age: 30, gender: \"Male\"});"
   ]
  },
  {
   "cell_type": "code",
   "execution_count": null,
   "metadata": {
    "vscode": {
     "languageId": "plaintext"
    }
   },
   "outputs": [],
   "source": [
    "# Create Relationships between movies and users\n",
    "MATCH (u:User {id: \"101\"}), (m:Movie {id: \"1\"})\n",
    "CREATE (u)-[:LIKES]->(m);\n",
    "MATCH (u:User {id: \"102\"}), (m:Movie {id: \"1\"})\n",
    "CREATE (u)-[:LIKES]->(m);\n",
    "\n",
    "MATCH (u:User {id: \"103\"}), (m:Movie {id: \"2\"})\n",
    "CREATE (u)-[:LIKES]->(m);\n",
    "MATCH (u:User {id: \"104\"}), (m:Movie {id: \"3\"})\n",
    "CREATE (u)-[:LIKES]->(m);\n",
    "\n",
    "MATCH (u:User {id: \"105\"}), (m:Movie {id: \"4\"})\n",
    "CREATE (u)-[:LIKES]->(m);\n",
    "MATCH (u:User {id: \"106\"}), (m:Movie {id: \"5\"})\n",
    "CREATE (u)-[:LIKES]->(m);\n",
    "\n",
    "MATCH (u:User {id: \"107\"}), (m:Movie {id: \"5\"})\n",
    "CREATE (u)-[:LIKES]->(m);\n",
    "MATCH (u:User {id: \"108\"}), (m:Movie {id: \"6\"})\n",
    "CREATE (u)-[:LIKES]->(m);\n",
    "\n",
    "MATCH (u:User {id: \"109\"}), (m:Movie {id: \"7\"})\n",
    "CREATE (u)-[:LIKES]->(m);\n",
    "MATCH (u:User {id: \"110\"}), (m:Movie {id: \"7\"})\n",
    "CREATE (u)-[:LIKES]->(m);\n",
    "\n",
    "MATCH (u:User {id: \"111\"}), (m:Movie {id: \"8\"})\n",
    "CREATE (u)-[:LIKES]->(m);\n",
    "MATCH (u:User {id: \"112\"}), (m:Movie {id: \"8\"})\n",
    "CREATE (u)-[:LIKES]->(m);\n",
    "\n",
    "MATCH (u:User {id: \"113\"}), (m:Movie {id: \"9\"})\n",
    "CREATE (u)-[:LIKES]->(m);\n",
    "MATCH (u:User {id: \"114\"}), (m:Movie {id: \"10\"})\n",
    "CREATE (u)-[:LIKES]->(m);"
   ]
  },
  {
   "cell_type": "code",
   "execution_count": null,
   "metadata": {
    "vscode": {
     "languageId": "plaintext"
    }
   },
   "outputs": [],
   "source": [
    "#recommendation\n",
    "\n",
    "MATCH (user:User {id: \"104\"})-[:LIKES]->(likedMovie:Movie)\n",
    "MATCH (likedMovie)-[:HAS_GENRE]->(genre)<-[:HAS_GENRE]-(recommendation:Movie)\n",
    "WHERE NOT (user)-[:LIKES]->(recommendation)\n",
    "RETURN DISTINCT recommendation.title AS RecommendedMovie, genre.name AS Genre\n",
    "LIMIT 5;"
   ]
  }
 ],
 "metadata": {
  "language_info": {
   "name": "python"
  }
 },
 "nbformat": 4,
 "nbformat_minor": 2
}
